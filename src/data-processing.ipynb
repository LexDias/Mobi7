{
 "cells": [
  {
   "cell_type": "markdown",
   "metadata": {},
   "source": [
    "# Bibliotecas"
   ]
  },
  {
   "cell_type": "code",
   "execution_count": 23,
   "metadata": {},
   "outputs": [],
   "source": [
    "import numpy as np\n",
    "import pandas as pd\n",
    "import geopy.distance as gp"
   ]
  },
  {
   "cell_type": "markdown",
   "metadata": {},
   "source": [
    "# Carga dos Dados"
   ]
  },
  {
   "cell_type": "code",
   "execution_count": 24,
   "metadata": {},
   "outputs": [],
   "source": [
    "poi = pd.read_csv('../data/base_pois_def.csv')\n",
    "position = pd.read_csv('../data/posicoes.csv')"
   ]
  },
  {
   "cell_type": "code",
   "execution_count": 25,
   "metadata": {},
   "outputs": [],
   "source": [
    "# Converte data_posicao para datetime\n",
    "position['data_posicao'] = pd.to_datetime(position['data_posicao'], format=\"%a %b %d %Y %H:%M:%S GMT%z\", exact=False)\n",
    "\n",
    "# Determina se o veiculo estah parado (on nao) em cada registro\n",
    "position['parado'] = position.apply(lambda x: (not x.ignicao and x.velocidade < 5), axis = 1)\n",
    "\n",
    "# Calcula o tempo(s) entre dois registros consecutivos\n",
    "position = position.sort_values(by=['placa','data_posicao'])\n",
    "position['tempo'] = (position['data_posicao'] - position.groupby(['placa'])['data_posicao'].shift(1)).dt.seconds"
   ]
  },
  {
   "cell_type": "markdown",
   "metadata": {},
   "source": [
    "# 'JOIN' dos dois DataFrames"
   ]
  },
  {
   "cell_type": "code",
   "execution_count": 26,
   "metadata": {},
   "outputs": [],
   "source": [
    "data = []\n",
    "for aPos in position.itertuples():\n",
    "    for aPoi in poi.itertuples():\n",
    "        # Calcula a distancia do veiculo ao POI\n",
    "        dist = gp.distance((aPos.latitude, aPos.longitude), (aPoi.latitude, aPoi.longitude)).meters\n",
    "        # Cria um registro, se o veiculo estiver em um POI\n",
    "        if (dist <= aPoi.raio):\n",
    "            data.append({'placa': aPos.placa, 'tempo': aPos.tempo, 'poi': aPoi.nome, 'parado': aPos.parado})\n",
    "\n",
    "positionPoi = pd.DataFrame(data)"
   ]
  },
  {
   "cell_type": "markdown",
   "metadata": {},
   "source": [
    "# Consolidacao dos tempos"
   ]
  },
  {
   "cell_type": "code",
   "execution_count": 27,
   "metadata": {},
   "outputs": [
    {
     "data": {
      "text/html": [
       "<div>\n",
       "<style scoped>\n",
       "    .dataframe tbody tr th:only-of-type {\n",
       "        vertical-align: middle;\n",
       "    }\n",
       "\n",
       "    .dataframe tbody tr th {\n",
       "        vertical-align: top;\n",
       "    }\n",
       "\n",
       "    .dataframe thead th {\n",
       "        text-align: right;\n",
       "    }\n",
       "</style>\n",
       "<table border=\"1\" class=\"dataframe\">\n",
       "  <thead>\n",
       "    <tr style=\"text-align: right;\">\n",
       "      <th></th>\n",
       "      <th>placa</th>\n",
       "      <th>poi</th>\n",
       "      <th>parado</th>\n",
       "      <th>tempo</th>\n",
       "    </tr>\n",
       "  </thead>\n",
       "  <tbody>\n",
       "    <tr>\n",
       "      <th>0</th>\n",
       "      <td>CAR0012</td>\n",
       "      <td>PONTO 24</td>\n",
       "      <td>False</td>\n",
       "      <td>1604.0</td>\n",
       "    </tr>\n",
       "    <tr>\n",
       "      <th>1</th>\n",
       "      <td>CAR0012</td>\n",
       "      <td>PONTO 24</td>\n",
       "      <td>True</td>\n",
       "      <td>342764.0</td>\n",
       "    </tr>\n",
       "    <tr>\n",
       "      <th>2</th>\n",
       "      <td>TESTE001</td>\n",
       "      <td>PONTO 1</td>\n",
       "      <td>False</td>\n",
       "      <td>3876.0</td>\n",
       "    </tr>\n",
       "    <tr>\n",
       "      <th>3</th>\n",
       "      <td>TESTE001</td>\n",
       "      <td>PONTO 1</td>\n",
       "      <td>True</td>\n",
       "      <td>471.0</td>\n",
       "    </tr>\n",
       "    <tr>\n",
       "      <th>4</th>\n",
       "      <td>TESTE001</td>\n",
       "      <td>PONTO 2</td>\n",
       "      <td>False</td>\n",
       "      <td>6001.0</td>\n",
       "    </tr>\n",
       "    <tr>\n",
       "      <th>5</th>\n",
       "      <td>TESTE001</td>\n",
       "      <td>PONTO 2</td>\n",
       "      <td>True</td>\n",
       "      <td>2432.0</td>\n",
       "    </tr>\n",
       "    <tr>\n",
       "      <th>6</th>\n",
       "      <td>TESTE001</td>\n",
       "      <td>PONTO 24</td>\n",
       "      <td>False</td>\n",
       "      <td>6408.0</td>\n",
       "    </tr>\n",
       "    <tr>\n",
       "      <th>7</th>\n",
       "      <td>TESTE001</td>\n",
       "      <td>PONTO 24</td>\n",
       "      <td>True</td>\n",
       "      <td>653235.0</td>\n",
       "    </tr>\n",
       "  </tbody>\n",
       "</table>\n",
       "</div>"
      ],
      "text/plain": [
       "      placa       poi  parado     tempo\n",
       "0   CAR0012  PONTO 24   False    1604.0\n",
       "1   CAR0012  PONTO 24    True  342764.0\n",
       "2  TESTE001   PONTO 1   False    3876.0\n",
       "3  TESTE001   PONTO 1    True     471.0\n",
       "4  TESTE001   PONTO 2   False    6001.0\n",
       "5  TESTE001   PONTO 2    True    2432.0\n",
       "6  TESTE001  PONTO 24   False    6408.0\n",
       "7  TESTE001  PONTO 24    True  653235.0"
      ]
     },
     "execution_count": 27,
     "metadata": {},
     "output_type": "execute_result"
    }
   ],
   "source": [
    "result = positionPoi.groupby(['placa','poi','parado'], as_index=False)['tempo'].sum()\n",
    "result"
   ]
  },
  {
   "cell_type": "code",
   "execution_count": 28,
   "metadata": {},
   "outputs": [
    {
     "data": {
      "text/html": [
       "<div>\n",
       "<style scoped>\n",
       "    .dataframe tbody tr th:only-of-type {\n",
       "        vertical-align: middle;\n",
       "    }\n",
       "\n",
       "    .dataframe tbody tr th {\n",
       "        vertical-align: top;\n",
       "    }\n",
       "\n",
       "    .dataframe thead th {\n",
       "        text-align: right;\n",
       "    }\n",
       "</style>\n",
       "<table border=\"1\" class=\"dataframe\">\n",
       "  <thead>\n",
       "    <tr style=\"text-align: right;\">\n",
       "      <th></th>\n",
       "      <th>placa</th>\n",
       "      <th>poi</th>\n",
       "      <th>tempo</th>\n",
       "    </tr>\n",
       "  </thead>\n",
       "  <tbody>\n",
       "    <tr>\n",
       "      <th>0</th>\n",
       "      <td>CAR0012</td>\n",
       "      <td>PONTO 24</td>\n",
       "      <td>342764.0</td>\n",
       "    </tr>\n",
       "    <tr>\n",
       "      <th>1</th>\n",
       "      <td>TESTE001</td>\n",
       "      <td>PONTO 1</td>\n",
       "      <td>471.0</td>\n",
       "    </tr>\n",
       "    <tr>\n",
       "      <th>2</th>\n",
       "      <td>TESTE001</td>\n",
       "      <td>PONTO 2</td>\n",
       "      <td>2432.0</td>\n",
       "    </tr>\n",
       "    <tr>\n",
       "      <th>3</th>\n",
       "      <td>TESTE001</td>\n",
       "      <td>PONTO 24</td>\n",
       "      <td>653235.0</td>\n",
       "    </tr>\n",
       "  </tbody>\n",
       "</table>\n",
       "</div>"
      ],
      "text/plain": [
       "      placa       poi     tempo\n",
       "0   CAR0012  PONTO 24  342764.0\n",
       "1  TESTE001   PONTO 1     471.0\n",
       "2  TESTE001   PONTO 2    2432.0\n",
       "3  TESTE001  PONTO 24  653235.0"
      ]
     },
     "execution_count": 28,
     "metadata": {},
     "output_type": "execute_result"
    }
   ],
   "source": [
    "# Quantidade de tempo que os veiculos passaram parados dentro de cada POI\n",
    "carStoppedPoi = result[result['parado']==True].groupby(['placa','poi'], as_index=False)['tempo'].sum()\n",
    "carStoppedPoi"
   ]
  },
  {
   "cell_type": "code",
   "execution_count": 29,
   "metadata": {},
   "outputs": [
    {
     "data": {
      "text/html": [
       "<div>\n",
       "<style scoped>\n",
       "    .dataframe tbody tr th:only-of-type {\n",
       "        vertical-align: middle;\n",
       "    }\n",
       "\n",
       "    .dataframe tbody tr th {\n",
       "        vertical-align: top;\n",
       "    }\n",
       "\n",
       "    .dataframe thead th {\n",
       "        text-align: right;\n",
       "    }\n",
       "</style>\n",
       "<table border=\"1\" class=\"dataframe\">\n",
       "  <thead>\n",
       "    <tr style=\"text-align: right;\">\n",
       "      <th></th>\n",
       "      <th>placa</th>\n",
       "      <th>poi</th>\n",
       "      <th>tempo</th>\n",
       "    </tr>\n",
       "  </thead>\n",
       "  <tbody>\n",
       "    <tr>\n",
       "      <th>0</th>\n",
       "      <td>CAR0012</td>\n",
       "      <td>PONTO 24</td>\n",
       "      <td>344368.0</td>\n",
       "    </tr>\n",
       "    <tr>\n",
       "      <th>1</th>\n",
       "      <td>TESTE001</td>\n",
       "      <td>PONTO 1</td>\n",
       "      <td>4347.0</td>\n",
       "    </tr>\n",
       "    <tr>\n",
       "      <th>2</th>\n",
       "      <td>TESTE001</td>\n",
       "      <td>PONTO 2</td>\n",
       "      <td>8433.0</td>\n",
       "    </tr>\n",
       "    <tr>\n",
       "      <th>3</th>\n",
       "      <td>TESTE001</td>\n",
       "      <td>PONTO 24</td>\n",
       "      <td>659643.0</td>\n",
       "    </tr>\n",
       "  </tbody>\n",
       "</table>\n",
       "</div>"
      ],
      "text/plain": [
       "      placa       poi     tempo\n",
       "0   CAR0012  PONTO 24  344368.0\n",
       "1  TESTE001   PONTO 1    4347.0\n",
       "2  TESTE001   PONTO 2    8433.0\n",
       "3  TESTE001  PONTO 24  659643.0"
      ]
     },
     "execution_count": 29,
     "metadata": {},
     "output_type": "execute_result"
    }
   ],
   "source": [
    "# Quantidade de tempo que os veiculos estavam dentro de cada POI\n",
    "carOnPoi = result.groupby(['placa','poi'], as_index=False)['tempo'].sum()\n",
    "carOnPoi"
   ]
  },
  {
   "cell_type": "code",
   "execution_count": 30,
   "metadata": {},
   "outputs": [
    {
     "data": {
      "text/html": [
       "<div>\n",
       "<style scoped>\n",
       "    .dataframe tbody tr th:only-of-type {\n",
       "        vertical-align: middle;\n",
       "    }\n",
       "\n",
       "    .dataframe tbody tr th {\n",
       "        vertical-align: top;\n",
       "    }\n",
       "\n",
       "    .dataframe thead th {\n",
       "        text-align: right;\n",
       "    }\n",
       "</style>\n",
       "<table border=\"1\" class=\"dataframe\">\n",
       "  <thead>\n",
       "    <tr style=\"text-align: right;\">\n",
       "      <th></th>\n",
       "      <th>poi</th>\n",
       "      <th>tempo</th>\n",
       "    </tr>\n",
       "  </thead>\n",
       "  <tbody>\n",
       "    <tr>\n",
       "      <th>0</th>\n",
       "      <td>PONTO 1</td>\n",
       "      <td>471.0</td>\n",
       "    </tr>\n",
       "    <tr>\n",
       "      <th>1</th>\n",
       "      <td>PONTO 2</td>\n",
       "      <td>2432.0</td>\n",
       "    </tr>\n",
       "    <tr>\n",
       "      <th>2</th>\n",
       "      <td>PONTO 24</td>\n",
       "      <td>995999.0</td>\n",
       "    </tr>\n",
       "  </tbody>\n",
       "</table>\n",
       "</div>"
      ],
      "text/plain": [
       "        poi     tempo\n",
       "0   PONTO 1     471.0\n",
       "1   PONTO 2    2432.0\n",
       "2  PONTO 24  995999.0"
      ]
     },
     "execution_count": 30,
     "metadata": {},
     "output_type": "execute_result"
    }
   ],
   "source": [
    "# Tempo total da frota gasto parado em cada POI\n",
    "fleetStoppedPoi = result[result['parado']==True].groupby(['poi'], as_index=False)['tempo'].sum()\n",
    "fleetStoppedPoi"
   ]
  },
  {
   "cell_type": "code",
   "execution_count": 31,
   "metadata": {},
   "outputs": [
    {
     "data": {
      "text/html": [
       "<div>\n",
       "<style scoped>\n",
       "    .dataframe tbody tr th:only-of-type {\n",
       "        vertical-align: middle;\n",
       "    }\n",
       "\n",
       "    .dataframe tbody tr th {\n",
       "        vertical-align: top;\n",
       "    }\n",
       "\n",
       "    .dataframe thead th {\n",
       "        text-align: right;\n",
       "    }\n",
       "</style>\n",
       "<table border=\"1\" class=\"dataframe\">\n",
       "  <thead>\n",
       "    <tr style=\"text-align: right;\">\n",
       "      <th></th>\n",
       "      <th>placa</th>\n",
       "      <th>tempo</th>\n",
       "    </tr>\n",
       "  </thead>\n",
       "  <tbody>\n",
       "    <tr>\n",
       "      <th>0</th>\n",
       "      <td>CAR0012</td>\n",
       "      <td>342764.0</td>\n",
       "    </tr>\n",
       "    <tr>\n",
       "      <th>1</th>\n",
       "      <td>TESTE001</td>\n",
       "      <td>655750.0</td>\n",
       "    </tr>\n",
       "  </tbody>\n",
       "</table>\n",
       "</div>"
      ],
      "text/plain": [
       "      placa     tempo\n",
       "0   CAR0012  342764.0\n",
       "1  TESTE001  655750.0"
      ]
     },
     "execution_count": 31,
     "metadata": {},
     "output_type": "execute_result"
    }
   ],
   "source": [
    "# Tempo total parado por veiculo, independente do POI\n",
    "carStopped = position[position['parado']==True].groupby(['placa'], as_index=False)['tempo'].sum()\n",
    "carStopped"
   ]
  },
  {
   "cell_type": "markdown",
   "metadata": {},
   "source": [
    "# Consolidacao dos dados"
   ]
  },
  {
   "cell_type": "code",
   "execution_count": 62,
   "metadata": {},
   "outputs": [
    {
     "data": {
      "text/html": [
       "<div>\n",
       "<style scoped>\n",
       "    .dataframe tbody tr th:only-of-type {\n",
       "        vertical-align: middle;\n",
       "    }\n",
       "\n",
       "    .dataframe tbody tr th {\n",
       "        vertical-align: top;\n",
       "    }\n",
       "\n",
       "    .dataframe thead th {\n",
       "        text-align: right;\n",
       "    }\n",
       "</style>\n",
       "<table border=\"1\" class=\"dataframe\">\n",
       "  <thead>\n",
       "    <tr style=\"text-align: right;\">\n",
       "      <th></th>\n",
       "      <th>placa</th>\n",
       "      <th>ponto_24_parado</th>\n",
       "      <th>ponto_24_total</th>\n",
       "      <th>total_parado</th>\n",
       "      <th>ponto_1_parado</th>\n",
       "      <th>ponto_2_parado</th>\n",
       "      <th>ponto_1_total</th>\n",
       "      <th>ponto_2_total</th>\n",
       "    </tr>\n",
       "  </thead>\n",
       "  <tbody>\n",
       "    <tr>\n",
       "      <th>0</th>\n",
       "      <td>CAR0012</td>\n",
       "      <td>342764.0</td>\n",
       "      <td>344368.0</td>\n",
       "      <td>342764.0</td>\n",
       "      <td>0.0</td>\n",
       "      <td>0.0</td>\n",
       "      <td>0.0</td>\n",
       "      <td>0.0</td>\n",
       "    </tr>\n",
       "    <tr>\n",
       "      <th>1</th>\n",
       "      <td>TESTE001</td>\n",
       "      <td>653235.0</td>\n",
       "      <td>659643.0</td>\n",
       "      <td>655750.0</td>\n",
       "      <td>471.0</td>\n",
       "      <td>2432.0</td>\n",
       "      <td>4347.0</td>\n",
       "      <td>8433.0</td>\n",
       "    </tr>\n",
       "    <tr>\n",
       "      <th>2</th>\n",
       "      <td>FROTA</td>\n",
       "      <td>995999.0</td>\n",
       "      <td>0.0</td>\n",
       "      <td>998514.0</td>\n",
       "      <td>471.0</td>\n",
       "      <td>2432.0</td>\n",
       "      <td>0.0</td>\n",
       "      <td>0.0</td>\n",
       "    </tr>\n",
       "  </tbody>\n",
       "</table>\n",
       "</div>"
      ],
      "text/plain": [
       "      placa  ponto_24_parado  ponto_24_total  total_parado  ponto_1_parado  \\\n",
       "0   CAR0012         342764.0        344368.0      342764.0             0.0   \n",
       "1  TESTE001         653235.0        659643.0      655750.0           471.0   \n",
       "2     FROTA         995999.0             0.0      998514.0           471.0   \n",
       "\n",
       "   ponto_2_parado  ponto_1_total  ponto_2_total  \n",
       "0             0.0            0.0            0.0  \n",
       "1          2432.0         4347.0         8433.0  \n",
       "2          2432.0            0.0            0.0  "
      ]
     },
     "execution_count": 62,
     "metadata": {},
     "output_type": "execute_result"
    }
   ],
   "source": [
    "data = []\n",
    "greatTotal = 0\n",
    "car = pd.unique(carStopped['placa'])\n",
    "for aCar in car:\n",
    "    st = {'placa': aCar}\n",
    "    # Adiciona colunas com o tempo parado em cada POI\n",
    "    for aRec in carStoppedPoi[carStoppedPoi['placa'] == aCar].itertuples():\n",
    "        st[aRec.poi.replace(' ','_').lower()+'_parado'] = aRec.tempo\n",
    "\n",
    "    # Adiciona colunas com o tempo em cada POI\n",
    "    for aRec in carOnPoi[carOnPoi['placa'] == aCar].itertuples():\n",
    "        st[aRec.poi.replace(' ','_').lower()+'_total'] = aRec.tempo\n",
    "    \n",
    "    # Adiciona coluna com o tempo total parado\n",
    "    for aRec in carStopped[carStopped['placa'] == aCar].itertuples():\n",
    "        st['total_parado'] = aRec.tempo\n",
    "        greatTotal += aRec.tempo\n",
    "    \n",
    "    data.append(st)\n",
    "\n",
    "st = {'placa': 'FROTA'}\n",
    "# Adiciona colunas com o tempo da frota parada em cada POI\n",
    "for aRec in fleetStoppedPoi.itertuples():\n",
    "    st[aRec.poi.replace(' ','_').lower()+'_parado'] = aRec.tempo\n",
    "st['total_parado'] = greatTotal\n",
    "data.append(st)\n",
    "\n",
    "output = pd.DataFrame(data).fillna(0)\n",
    "output"
   ]
  },
  {
   "cell_type": "markdown",
   "metadata": {},
   "source": [
    "# Output dos resultados"
   ]
  },
  {
   "cell_type": "code",
   "execution_count": 63,
   "metadata": {},
   "outputs": [],
   "source": [
    "cols = output.columns.tolist()\n",
    "cols.sort()\n",
    "output[cols].to_csv('../output/resultados_consolidados_POIs.csv', index=False)"
   ]
  }
 ],
 "metadata": {
  "kernelspec": {
   "display_name": "Python 3",
   "language": "python",
   "name": "python3"
  },
  "language_info": {
   "codemirror_mode": {
    "name": "ipython",
    "version": 3
   },
   "file_extension": ".py",
   "mimetype": "text/x-python",
   "name": "python",
   "nbconvert_exporter": "python",
   "pygments_lexer": "ipython3",
   "version": "3.8.6"
  }
 },
 "nbformat": 4,
 "nbformat_minor": 2
}
