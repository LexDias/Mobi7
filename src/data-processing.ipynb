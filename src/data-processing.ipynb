{
 "cells": [
  {
   "cell_type": "markdown",
   "metadata": {},
   "source": [
    "# Bibliotecas"
   ]
  },
  {
   "cell_type": "code",
   "execution_count": 1,
   "metadata": {},
   "outputs": [],
   "source": [
    "import pandas as pd\n",
    "import geopy.distance as gp"
   ]
  },
  {
   "cell_type": "markdown",
   "metadata": {},
   "source": [
    "# Carga dos Dados"
   ]
  },
  {
   "cell_type": "code",
   "execution_count": 185,
   "metadata": {},
   "outputs": [],
   "source": [
    "poi = pd.read_csv('../data/base_pois_def.csv')\n",
    "position = pd.read_csv('../data/posicoes.csv')"
   ]
  },
  {
   "cell_type": "code",
   "execution_count": 186,
   "metadata": {},
   "outputs": [],
   "source": [
    "# Converte data_posicao para datetime\n",
    "position['data_posicao'] = pd.to_datetime(position['data_posicao'], format=\"%a %b %d %Y %H:%M:%S GMT%z\", exact=False)\n",
    "\n",
    "# Determina se o veiculo estah parado (on nao) em cada registro\n",
    "position['parado'] = position.apply(lambda x: (not x.ignicao and x.velocidade < 5), axis = 1)\n",
    "\n",
    "# Calcula o tempo(s) entre dois registros consecutivos\n",
    "position = position.sort_values(by=['placa','data_posicao'])\n",
    "position['tempo'] = (position['data_posicao'] - position.groupby(['placa'])['data_posicao'].shift(1)).dt.seconds"
   ]
  },
  {
   "cell_type": "markdown",
   "metadata": {},
   "source": [
    "# 'JOIN' dos dois DataFrames"
   ]
  },
  {
   "cell_type": "code",
   "execution_count": 188,
   "metadata": {},
   "outputs": [],
   "source": [
    "data = []\n",
    "for aPos in position.itertuples():\n",
    "    elseWhere = True\n",
    "    for aPoi in poi.itertuples():\n",
    "        # Calcula a distancia do veiculo ao POI\n",
    "        dist = gp.distance((aPos.latitude, aPos.longitude), (aPoi.latitude, aPoi.longitude)).meters\n",
    "        # Cria um registro, se o veiculo estiver em um POI\n",
    "        if (dist <= aPoi.raio):\n",
    "            elseWhere = False\n",
    "            data.append({'placa': aPos.placa, 'tempo': aPos.tempo, 'poi': aPoi.nome, 'parado': aPos.parado})\n",
    "\n",
    "    # Cria um registro, se o veiculo estiver parado, fora de todos os POIs\n",
    "    if (elseWhere and aPos.parado):\n",
    "        data.append({'placa': aPos.placa, 'tempo': aPos.tempo, 'poi': '*', 'parado': aPos.parado})\n",
    "        \n",
    "positionPoi = pd.DataFrame(data)"
   ]
  },
  {
   "cell_type": "markdown",
   "metadata": {},
   "source": [
    "# Consolidacao dos dados"
   ]
  },
  {
   "cell_type": "code",
   "execution_count": 196,
   "metadata": {},
   "outputs": [
    {
     "data": {
      "text/html": [
       "<div>\n",
       "<style scoped>\n",
       "    .dataframe tbody tr th:only-of-type {\n",
       "        vertical-align: middle;\n",
       "    }\n",
       "\n",
       "    .dataframe tbody tr th {\n",
       "        vertical-align: top;\n",
       "    }\n",
       "\n",
       "    .dataframe thead th {\n",
       "        text-align: right;\n",
       "    }\n",
       "</style>\n",
       "<table border=\"1\" class=\"dataframe\">\n",
       "  <thead>\n",
       "    <tr style=\"text-align: right;\">\n",
       "      <th></th>\n",
       "      <th>placa</th>\n",
       "      <th>poi</th>\n",
       "      <th>parado</th>\n",
       "      <th>tempo</th>\n",
       "    </tr>\n",
       "  </thead>\n",
       "  <tbody>\n",
       "    <tr>\n",
       "      <th>0</th>\n",
       "      <td>CAR0012</td>\n",
       "      <td>PONTO 24</td>\n",
       "      <td>False</td>\n",
       "      <td>1604.0</td>\n",
       "    </tr>\n",
       "    <tr>\n",
       "      <th>1</th>\n",
       "      <td>CAR0012</td>\n",
       "      <td>PONTO 24</td>\n",
       "      <td>True</td>\n",
       "      <td>342764.0</td>\n",
       "    </tr>\n",
       "    <tr>\n",
       "      <th>2</th>\n",
       "      <td>TESTE001</td>\n",
       "      <td>PONTO 1</td>\n",
       "      <td>False</td>\n",
       "      <td>3876.0</td>\n",
       "    </tr>\n",
       "    <tr>\n",
       "      <th>3</th>\n",
       "      <td>TESTE001</td>\n",
       "      <td>PONTO 1</td>\n",
       "      <td>True</td>\n",
       "      <td>471.0</td>\n",
       "    </tr>\n",
       "    <tr>\n",
       "      <th>4</th>\n",
       "      <td>TESTE001</td>\n",
       "      <td>PONTO 2</td>\n",
       "      <td>False</td>\n",
       "      <td>6001.0</td>\n",
       "    </tr>\n",
       "    <tr>\n",
       "      <th>5</th>\n",
       "      <td>TESTE001</td>\n",
       "      <td>PONTO 2</td>\n",
       "      <td>True</td>\n",
       "      <td>2432.0</td>\n",
       "    </tr>\n",
       "    <tr>\n",
       "      <th>6</th>\n",
       "      <td>TESTE001</td>\n",
       "      <td>PONTO 24</td>\n",
       "      <td>False</td>\n",
       "      <td>6408.0</td>\n",
       "    </tr>\n",
       "    <tr>\n",
       "      <th>7</th>\n",
       "      <td>TESTE001</td>\n",
       "      <td>PONTO 24</td>\n",
       "      <td>True</td>\n",
       "      <td>653235.0</td>\n",
       "    </tr>\n",
       "  </tbody>\n",
       "</table>\n",
       "</div>"
      ],
      "text/plain": [
       "      placa       poi  parado     tempo\n",
       "0   CAR0012  PONTO 24   False    1604.0\n",
       "1   CAR0012  PONTO 24    True  342764.0\n",
       "2  TESTE001   PONTO 1   False    3876.0\n",
       "3  TESTE001   PONTO 1    True     471.0\n",
       "4  TESTE001   PONTO 2   False    6001.0\n",
       "5  TESTE001   PONTO 2    True    2432.0\n",
       "6  TESTE001  PONTO 24   False    6408.0\n",
       "7  TESTE001  PONTO 24    True  653235.0"
      ]
     },
     "execution_count": 196,
     "metadata": {},
     "output_type": "execute_result"
    }
   ],
   "source": [
    "result = positionPoi.groupby(['placa','poi','parado'], as_index=False)['tempo'].sum()\n",
    "result"
   ]
  },
  {
   "cell_type": "code",
   "execution_count": 208,
   "metadata": {},
   "outputs": [
    {
     "data": {
      "text/html": [
       "<div>\n",
       "<style scoped>\n",
       "    .dataframe tbody tr th:only-of-type {\n",
       "        vertical-align: middle;\n",
       "    }\n",
       "\n",
       "    .dataframe tbody tr th {\n",
       "        vertical-align: top;\n",
       "    }\n",
       "\n",
       "    .dataframe thead th {\n",
       "        text-align: right;\n",
       "    }\n",
       "</style>\n",
       "<table border=\"1\" class=\"dataframe\">\n",
       "  <thead>\n",
       "    <tr style=\"text-align: right;\">\n",
       "      <th></th>\n",
       "      <th>placa</th>\n",
       "      <th>poi</th>\n",
       "      <th>tempo</th>\n",
       "    </tr>\n",
       "  </thead>\n",
       "  <tbody>\n",
       "    <tr>\n",
       "      <th>0</th>\n",
       "      <td>CAR0012</td>\n",
       "      <td>PONTO 24</td>\n",
       "      <td>342764.0</td>\n",
       "    </tr>\n",
       "    <tr>\n",
       "      <th>1</th>\n",
       "      <td>TESTE001</td>\n",
       "      <td>PONTO 1</td>\n",
       "      <td>471.0</td>\n",
       "    </tr>\n",
       "    <tr>\n",
       "      <th>2</th>\n",
       "      <td>TESTE001</td>\n",
       "      <td>PONTO 2</td>\n",
       "      <td>2432.0</td>\n",
       "    </tr>\n",
       "    <tr>\n",
       "      <th>3</th>\n",
       "      <td>TESTE001</td>\n",
       "      <td>PONTO 24</td>\n",
       "      <td>653235.0</td>\n",
       "    </tr>\n",
       "  </tbody>\n",
       "</table>\n",
       "</div>"
      ],
      "text/plain": [
       "      placa       poi     tempo\n",
       "0   CAR0012  PONTO 24  342764.0\n",
       "1  TESTE001   PONTO 1     471.0\n",
       "2  TESTE001   PONTO 2    2432.0\n",
       "3  TESTE001  PONTO 24  653235.0"
      ]
     },
     "execution_count": 208,
     "metadata": {},
     "output_type": "execute_result"
    }
   ],
   "source": [
    "# Quantidade de tempo que os veiculos passaram parados dentro de cada POI\n",
    "result[result['parado']==True].groupby(['placa','poi'], as_index=False)['tempo'].sum()"
   ]
  },
  {
   "cell_type": "code",
   "execution_count": 204,
   "metadata": {},
   "outputs": [
    {
     "data": {
      "text/html": [
       "<div>\n",
       "<style scoped>\n",
       "    .dataframe tbody tr th:only-of-type {\n",
       "        vertical-align: middle;\n",
       "    }\n",
       "\n",
       "    .dataframe tbody tr th {\n",
       "        vertical-align: top;\n",
       "    }\n",
       "\n",
       "    .dataframe thead th {\n",
       "        text-align: right;\n",
       "    }\n",
       "</style>\n",
       "<table border=\"1\" class=\"dataframe\">\n",
       "  <thead>\n",
       "    <tr style=\"text-align: right;\">\n",
       "      <th></th>\n",
       "      <th>placa</th>\n",
       "      <th>poi</th>\n",
       "      <th>tempo</th>\n",
       "    </tr>\n",
       "  </thead>\n",
       "  <tbody>\n",
       "    <tr>\n",
       "      <th>0</th>\n",
       "      <td>CAR0012</td>\n",
       "      <td>PONTO 24</td>\n",
       "      <td>344368.0</td>\n",
       "    </tr>\n",
       "    <tr>\n",
       "      <th>1</th>\n",
       "      <td>TESTE001</td>\n",
       "      <td>PONTO 1</td>\n",
       "      <td>4347.0</td>\n",
       "    </tr>\n",
       "    <tr>\n",
       "      <th>2</th>\n",
       "      <td>TESTE001</td>\n",
       "      <td>PONTO 2</td>\n",
       "      <td>8433.0</td>\n",
       "    </tr>\n",
       "    <tr>\n",
       "      <th>3</th>\n",
       "      <td>TESTE001</td>\n",
       "      <td>PONTO 24</td>\n",
       "      <td>659643.0</td>\n",
       "    </tr>\n",
       "  </tbody>\n",
       "</table>\n",
       "</div>"
      ],
      "text/plain": [
       "      placa       poi     tempo\n",
       "0   CAR0012  PONTO 24  344368.0\n",
       "1  TESTE001   PONTO 1    4347.0\n",
       "2  TESTE001   PONTO 2    8433.0\n",
       "3  TESTE001  PONTO 24  659643.0"
      ]
     },
     "execution_count": 204,
     "metadata": {},
     "output_type": "execute_result"
    }
   ],
   "source": [
    "# Quantidade de tempo que os veiculos estavam dentro de cada POI\n",
    "result.groupby(['placa','poi'], as_index=False)['tempo'].sum()"
   ]
  },
  {
   "cell_type": "code",
   "execution_count": 202,
   "metadata": {},
   "outputs": [
    {
     "data": {
      "text/html": [
       "<div>\n",
       "<style scoped>\n",
       "    .dataframe tbody tr th:only-of-type {\n",
       "        vertical-align: middle;\n",
       "    }\n",
       "\n",
       "    .dataframe tbody tr th {\n",
       "        vertical-align: top;\n",
       "    }\n",
       "\n",
       "    .dataframe thead th {\n",
       "        text-align: right;\n",
       "    }\n",
       "</style>\n",
       "<table border=\"1\" class=\"dataframe\">\n",
       "  <thead>\n",
       "    <tr style=\"text-align: right;\">\n",
       "      <th></th>\n",
       "      <th>poi</th>\n",
       "      <th>tempo</th>\n",
       "    </tr>\n",
       "  </thead>\n",
       "  <tbody>\n",
       "    <tr>\n",
       "      <th>0</th>\n",
       "      <td>PONTO 1</td>\n",
       "      <td>471.0</td>\n",
       "    </tr>\n",
       "    <tr>\n",
       "      <th>1</th>\n",
       "      <td>PONTO 2</td>\n",
       "      <td>2432.0</td>\n",
       "    </tr>\n",
       "    <tr>\n",
       "      <th>2</th>\n",
       "      <td>PONTO 24</td>\n",
       "      <td>995999.0</td>\n",
       "    </tr>\n",
       "  </tbody>\n",
       "</table>\n",
       "</div>"
      ],
      "text/plain": [
       "        poi     tempo\n",
       "0   PONTO 1     471.0\n",
       "1   PONTO 2    2432.0\n",
       "2  PONTO 24  995999.0"
      ]
     },
     "execution_count": 202,
     "metadata": {},
     "output_type": "execute_result"
    }
   ],
   "source": [
    "# Tempo total da frota gasto parado em cada POI\n",
    "result[result['parado']==True].groupby(['poi'], as_index=False)['tempo'].sum()"
   ]
  },
  {
   "cell_type": "code",
   "execution_count": 193,
   "metadata": {},
   "outputs": [
    {
     "data": {
      "text/html": [
       "<div>\n",
       "<style scoped>\n",
       "    .dataframe tbody tr th:only-of-type {\n",
       "        vertical-align: middle;\n",
       "    }\n",
       "\n",
       "    .dataframe tbody tr th {\n",
       "        vertical-align: top;\n",
       "    }\n",
       "\n",
       "    .dataframe thead th {\n",
       "        text-align: right;\n",
       "    }\n",
       "</style>\n",
       "<table border=\"1\" class=\"dataframe\">\n",
       "  <thead>\n",
       "    <tr style=\"text-align: right;\">\n",
       "      <th></th>\n",
       "      <th>placa</th>\n",
       "      <th>tempo</th>\n",
       "    </tr>\n",
       "  </thead>\n",
       "  <tbody>\n",
       "    <tr>\n",
       "      <th>0</th>\n",
       "      <td>CAR0012</td>\n",
       "      <td>342764.0</td>\n",
       "    </tr>\n",
       "    <tr>\n",
       "      <th>1</th>\n",
       "      <td>TESTE001</td>\n",
       "      <td>655750.0</td>\n",
       "    </tr>\n",
       "  </tbody>\n",
       "</table>\n",
       "</div>"
      ],
      "text/plain": [
       "      placa     tempo\n",
       "0   CAR0012  342764.0\n",
       "1  TESTE001  655750.0"
      ]
     },
     "execution_count": 193,
     "metadata": {},
     "output_type": "execute_result"
    }
   ],
   "source": [
    "# Tempo total parado por veiculo, independente do POI\n",
    "position[position['parado']==True].groupby(['placa'], as_index=False)['tempo'].sum()"
   ]
  },
  {
   "cell_type": "code",
   "execution_count": 214,
   "metadata": {},
   "outputs": [
    {
     "data": {
      "text/plain": [
       "'{\"nome\":{\"0\":\"PONTO 1\",\"1\":\"PONTO 2\",\"2\":\"PONTO 3\",\"3\":\"PONTO 4\",\"4\":\"PONTO 5\",\"5\":\"PONTO 6\",\"6\":\"PONTO 7\",\"7\":\"PONTO 8\",\"8\":\"PONTO 9\",\"9\":\"PONTO 10\",\"10\":\"PONTO 11\",\"11\":\"PONTO 12\",\"12\":\"PONTO 13\",\"13\":\"PONTO 14\",\"14\":\"PONTO 15\",\"15\":\"PONTO 16\",\"16\":\"PONTO 17\",\"17\":\"PONTO 18\",\"18\":\"PONTO 19\",\"19\":\"PONTO 20\",\"20\":\"PONTO 21\",\"21\":\"PONTO 22\",\"22\":\"PONTO 23\",\"23\":\"PONTO 24\"},\"raio\":{\"0\":300,\"1\":300,\"2\":250,\"3\":250,\"4\":163,\"5\":170,\"6\":250,\"7\":250,\"8\":250,\"9\":250,\"10\":250,\"11\":250,\"12\":250,\"13\":250,\"14\":250,\"15\":250,\"16\":250,\"17\":250,\"18\":250,\"19\":250,\"20\":250,\"21\":250,\"22\":250,\"23\":350},\"latitude\":{\"0\":-25.5674270174,\"1\":-25.568056,\"2\":-25.414167,\"3\":-25.718611,\"4\":-25.3724045981,\"5\":-22.7182524062,\"6\":-25.336667,\"7\":-24.558056,\"8\":-24.940833,\"9\":-25.279167,\"10\":-25.498056,\"11\":-20.071389,\"12\":-21.678056,\"13\":-23.6525,\"14\":-8.112778,\"15\":-22.754444,\"16\":-25.419167,\"17\":-25.5375,\"18\":-25.152222,\"19\":-23.598889,\"20\":-22.124722,\"21\":-25.445278,\"22\":-25.547778,\"23\":-25.363333},\"longitude\":{\"0\":-51.4765336365,\"1\":-51.480278,\"2\":-51.566944,\"3\":-51.831111,\"4\":-51.4973426226,\"5\":-46.7862755834,\"6\":-51.5125,\"7\":-54.036944,\"8\":-50.793611,\"9\":-51.628333,\"10\":-49.275,\"11\":-45.312222,\"12\":-43.445833,\"13\":-46.716389,\"14\":-34.933889,\"15\":-45.122778,\"16\":-51.4875,\"17\":-48.554722,\"18\":-50.132778,\"19\":-46.888611,\"20\":-43.225833,\"21\":-51.654722,\"22\":-49.307222,\"23\":-51.468333}}'"
      ]
     },
     "execution_count": 214,
     "metadata": {},
     "output_type": "execute_result"
    }
   ],
   "source": [
    "poi.to_json()"
   ]
  }
 ],
 "metadata": {
  "kernelspec": {
   "display_name": "Python 3",
   "language": "python",
   "name": "python3"
  },
  "language_info": {
   "codemirror_mode": {
    "name": "ipython",
    "version": 3
   },
   "file_extension": ".py",
   "mimetype": "text/x-python",
   "name": "python",
   "nbconvert_exporter": "python",
   "pygments_lexer": "ipython3",
   "version": "3.8.6"
  }
 },
 "nbformat": 4,
 "nbformat_minor": 2
}
