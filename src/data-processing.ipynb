{
 "cells": [
  {
   "cell_type": "markdown",
   "metadata": {},
   "source": [
    "# Bibliotecas"
   ]
  },
  {
   "cell_type": "code",
   "execution_count": null,
   "metadata": {},
   "outputs": [],
   "source": [
    "import numpy as np\n",
    "import pandas as pd\n",
    "import geopy.distance as gp"
   ]
  },
  {
   "cell_type": "markdown",
   "metadata": {},
   "source": [
    "# Carga dos Dados"
   ]
  },
  {
   "cell_type": "code",
   "execution_count": null,
   "metadata": {},
   "outputs": [],
   "source": [
    "poi = pd.read_csv('../data/base_pois_def.csv')\n",
    "position = pd.read_csv('../data/posicoes.csv')"
   ]
  },
  {
   "cell_type": "code",
   "execution_count": null,
   "metadata": {},
   "outputs": [],
   "source": [
    "# Converte data_posicao para datetime\n",
    "position['data_posicao'] = pd.to_datetime(position['data_posicao'], format=\"%a %b %d %Y %H:%M:%S GMT%z\", exact=False)\n",
    "\n",
    "# Determina se o veiculo estah parado (on nao) em cada registro\n",
    "position['parado'] = position.apply(lambda x: (not x.ignicao and x.velocidade < 5), axis = 1)\n",
    "\n",
    "# Calcula o tempo(s) entre dois registros consecutivos\n",
    "position = position.sort_values(by=['placa','data_posicao'])\n",
    "position['tempo'] = (position['data_posicao'] - position.groupby(['placa'])['data_posicao'].shift(1)).dt.seconds"
   ]
  },
  {
   "cell_type": "markdown",
   "metadata": {},
   "source": [
    "# 'JOIN' dos dois DataFrames"
   ]
  },
  {
   "cell_type": "code",
   "execution_count": null,
   "metadata": {},
   "outputs": [],
   "source": [
    "data = []\n",
    "for aPos in position.itertuples():\n",
    "    for aPoi in poi.itertuples():\n",
    "        # Calcula a distancia do veiculo ao POI\n",
    "        dist = gp.distance((aPos.latitude, aPos.longitude), (aPoi.latitude, aPoi.longitude)).meters\n",
    "        # Cria um registro, se o veiculo estiver em um POI\n",
    "        if (dist <= aPoi.raio):\n",
    "            data.append({'placa': aPos.placa, 'tempo': aPos.tempo, 'poi': aPoi.nome, 'parado': aPos.parado})\n",
    "\n",
    "positionPoi = pd.DataFrame(data)"
   ]
  },
  {
   "cell_type": "markdown",
   "metadata": {},
   "source": [
    "# Consolidacao dos tempos"
   ]
  },
  {
   "cell_type": "code",
   "execution_count": null,
   "metadata": {},
   "outputs": [],
   "source": [
    "result = positionPoi.groupby(['placa','poi','parado'], as_index=False)['tempo'].sum()\n",
    "result"
   ]
  },
  {
   "cell_type": "code",
   "execution_count": null,
   "metadata": {},
   "outputs": [],
   "source": [
    "# Quantidade de tempo que os veiculos passaram parados dentro de cada POI\n",
    "carStoppedPoi = result[result['parado']==True].groupby(['placa','poi'], as_index=False)['tempo'].sum()\n",
    "carStoppedPoi"
   ]
  },
  {
   "cell_type": "code",
   "execution_count": null,
   "metadata": {},
   "outputs": [],
   "source": [
    "# Quantidade de tempo que os veiculos estavam dentro de cada POI\n",
    "carOnPoi = result.groupby(['placa','poi'], as_index=False)['tempo'].sum()\n",
    "carOnPoi"
   ]
  },
  {
   "cell_type": "code",
   "execution_count": null,
   "metadata": {},
   "outputs": [],
   "source": [
    "# Tempo total da frota gasto parado em cada POI\n",
    "fleetStoppedPoi = result[result['parado']==True].groupby(['poi'], as_index=False)['tempo'].sum()\n",
    "fleetStoppedPoi"
   ]
  },
  {
   "cell_type": "code",
   "execution_count": null,
   "metadata": {},
   "outputs": [],
   "source": [
    "# Tempo total parado por veiculo, independente do POI\n",
    "carStopped = position[position['parado']==True].groupby(['placa'], as_index=False)['tempo'].sum()\n",
    "carStopped"
   ]
  },
  {
   "cell_type": "markdown",
   "metadata": {},
   "source": [
    "# Consolidacao dos dados"
   ]
  },
  {
   "cell_type": "code",
   "execution_count": null,
   "metadata": {},
   "outputs": [],
   "source": [
    "data = []\n",
    "car = np.unique(np.append(pd.unique(result['placa']), pd.unique(result['placa'])))\n",
    "for aCar in car:\n",
    "    st = {'placa': aCar}\n",
    "    # Adiciona colunas com o tempo parado em cada POI\n",
    "    for aRec in carStoppedPoi[carStoppedPoi['placa'] == aCar].itertuples():\n",
    "        st[aRec.poi.replace(' ','_').lower()+'_parado'] = aRec.tempo\n",
    "\n",
    "    # Adiciona colunas com o tempo em cada POI\n",
    "    for aRec in carOnPoi[carOnPoi['placa'] == aCar].itertuples():\n",
    "        st[aRec.poi.replace(' ','_').lower()+'_total'] = aRec.tempo\n",
    "    \n",
    "    # Adiciona coluna com o tempo total parado\n",
    "    for aRec in carStopped[carStopped['placa'] == aCar].itertuples():\n",
    "        st['total_parado'] = aRec.tempo\n",
    "    \n",
    "    data.append(st)\n",
    "\n",
    "st = {'placa': 'FROTA'}\n",
    "# Adiciona colunas com o tempo da frota parada em cada POI\n",
    "for aRec in fleetStoppedPoi.itertuples():\n",
    "    st[aRec.poi.replace(' ','_').lower()+'_parado'] = aRec.tempo\n",
    "data.append(st)\n",
    "\n",
    "output = pd.DataFrame(data).fillna(0)\n",
    "output"
   ]
  },
  {
   "cell_type": "markdown",
   "metadata": {},
   "source": [
    "# Output dos resultados"
   ]
  },
  {
   "cell_type": "code",
   "execution_count": null,
   "metadata": {},
   "outputs": [],
   "source": [
    "cols = output.columns.tolist()\n",
    "cols.sort()\n",
    "output[cols].to_csv('../output/resultados_consolidados_POIs.csv', index=False)"
   ]
  }
 ],
 "metadata": {
  "kernelspec": {
   "display_name": "Python 3",
   "language": "python",
   "name": "python3"
  },
  "language_info": {
   "codemirror_mode": {
    "name": "ipython",
    "version": 3
   },
   "file_extension": ".py",
   "mimetype": "text/x-python",
   "name": "python",
   "nbconvert_exporter": "python",
   "pygments_lexer": "ipython3",
   "version": "3.8.6"
  }
 },
 "nbformat": 4,
 "nbformat_minor": 2
}
